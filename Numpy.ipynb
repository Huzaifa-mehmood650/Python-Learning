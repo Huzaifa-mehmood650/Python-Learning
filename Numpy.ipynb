{
 "cells": [
  {
   "cell_type": "markdown",
   "id": "04493f8c",
   "metadata": {},
   "source": [
    "Numpy"
   ]
  },
  {
   "cell_type": "code",
   "execution_count": 31,
   "id": "e51c33d2",
   "metadata": {},
   "outputs": [
    {
     "data": {
      "text/plain": [
       "array([1, 2, 3])"
      ]
     },
     "execution_count": 31,
     "metadata": {},
     "output_type": "execute_result"
    }
   ],
   "source": [
    "import numpy as np\n",
    "arr1=np.array([1, 2, 3])\n",
    "arr1"
   ]
  },
  {
   "cell_type": "code",
   "execution_count": 4,
   "id": "16cee3f1",
   "metadata": {},
   "outputs": [
    {
     "name": "stdout",
     "output_type": "stream",
     "text": [
      "[[0. 0. 0. 0.]\n",
      " [0. 0. 0. 0.]\n",
      " [0. 0. 0. 0.]\n",
      " [0. 0. 0. 0.]]\n"
     ]
    }
   ],
   "source": [
    "arr2 = np.zeros((4, 4))\n",
    "print(arr2)"
   ]
  },
  {
   "cell_type": "code",
   "execution_count": 5,
   "id": "5013e59d",
   "metadata": {},
   "outputs": [
    {
     "name": "stdout",
     "output_type": "stream",
     "text": [
      "[[7 7 7 7 7]\n",
      " [7 7 7 7 7]]\n"
     ]
    }
   ],
   "source": [
    "arr3 = np.full((2, 5), 7)\n",
    "print(arr3)"
   ]
  },
  {
   "cell_type": "code",
   "execution_count": 6,
   "id": "a7a88207",
   "metadata": {},
   "outputs": [
    {
     "name": "stdout",
     "output_type": "stream",
     "text": [
      "[0 1 2 3 4 5 6 7 8 9]\n"
     ]
    }
   ],
   "source": [
    "arr4 = np.arange(10)\n",
    "print(arr4)"
   ]
  },
  {
   "cell_type": "code",
   "execution_count": 7,
   "id": "b074475e",
   "metadata": {},
   "outputs": [
    {
     "name": "stdout",
     "output_type": "stream",
     "text": [
      "[ 1.    3.25  5.5   7.75 10.  ]\n"
     ]
    }
   ],
   "source": [
    "arr5 = np.linspace(1, 10, 5)\n",
    "print(arr5)"
   ]
  },
  {
   "cell_type": "code",
   "execution_count": 8,
   "id": "903c65bd",
   "metadata": {},
   "outputs": [
    {
     "name": "stdout",
     "output_type": "stream",
     "text": [
      "[[1. 0. 0.]\n",
      " [0. 1. 0.]\n",
      " [0. 0. 1.]]\n"
     ]
    }
   ],
   "source": [
    "arr6 = np.eye(3)\n",
    "print(arr6)"
   ]
  },
  {
   "cell_type": "code",
   "execution_count": 9,
   "id": "810e839f",
   "metadata": {},
   "outputs": [
    {
     "name": "stdout",
     "output_type": "stream",
     "text": [
      "[[0.5216194  0.5814315  0.64739067]\n",
      " [0.35762738 0.77413563 0.62790395]]\n"
     ]
    }
   ],
   "source": [
    "arr7 = np.random.rand(2, 3)\n",
    "print(arr7)"
   ]
  },
  {
   "cell_type": "code",
   "execution_count": 10,
   "id": "e4b7add3",
   "metadata": {},
   "outputs": [
    {
     "name": "stdout",
     "output_type": "stream",
     "text": [
      "[[12 48 22]\n",
      " [15 11 43]\n",
      " [26 15 36]]\n"
     ]
    }
   ],
   "source": [
    "arr8 = np.random.randint(10, 51, size=(3, 3))\n",
    "print(arr8)"
   ]
  },
  {
   "cell_type": "code",
   "execution_count": 11,
   "id": "5e09a8ab",
   "metadata": {},
   "outputs": [
    {
     "name": "stdout",
     "output_type": "stream",
     "text": [
      "[[0 1 2]\n",
      " [3 4 5]]\n"
     ]
    }
   ],
   "source": [
    "arr9 = np.arange(6).reshape(2, 3)\n",
    "print(arr9)"
   ]
  },
  {
   "cell_type": "code",
   "execution_count": 12,
   "id": "e7c3e728",
   "metadata": {},
   "outputs": [
    {
     "name": "stdout",
     "output_type": "stream",
     "text": [
      "[False  True  True False]\n"
     ]
    }
   ],
   "source": [
    "arr10 = np.array([3, 6, 9, 2]) > 5\n",
    "print(arr10)"
   ]
  },
  {
   "cell_type": "code",
   "execution_count": 13,
   "id": "c2cdbe59",
   "metadata": {},
   "outputs": [
    {
     "data": {
      "text/plain": [
       "(4,)"
      ]
     },
     "execution_count": 13,
     "metadata": {},
     "output_type": "execute_result"
    }
   ],
   "source": [
    "arr10.shape"
   ]
  },
  {
   "cell_type": "code",
   "execution_count": 14,
   "id": "74fbe938",
   "metadata": {},
   "outputs": [
    {
     "data": {
      "text/plain": [
       "1"
      ]
     },
     "execution_count": 14,
     "metadata": {},
     "output_type": "execute_result"
    }
   ],
   "source": [
    "arr10.itemsize"
   ]
  },
  {
   "cell_type": "code",
   "execution_count": 15,
   "id": "c74a3c07",
   "metadata": {},
   "outputs": [
    {
     "data": {
      "text/plain": [
       "dtype('bool')"
      ]
     },
     "execution_count": 15,
     "metadata": {},
     "output_type": "execute_result"
    }
   ],
   "source": [
    "arr10.dtype"
   ]
  },
  {
   "cell_type": "code",
   "execution_count": 16,
   "id": "538dde41",
   "metadata": {},
   "outputs": [],
   "source": [
    "import time"
   ]
  },
  {
   "cell_type": "code",
   "execution_count": 17,
   "id": "0913babd",
   "metadata": {},
   "outputs": [
    {
     "name": "stdout",
     "output_type": "stream",
     "text": [
      "0.09990191459655762\n"
     ]
    }
   ],
   "source": [
    "x=range(100000)\n",
    "y=range(100000,20000000)\n",
    "start_time=time.time()\n",
    "c=[(x,y) for x,y in zip(x,y)]\n",
    "print(time.time()-start_time)"
   ]
  },
  {
   "cell_type": "code",
   "execution_count": 18,
   "id": "bb77e298",
   "metadata": {},
   "outputs": [
    {
     "data": {
      "text/plain": [
       "array([[ 0,  1,  2,  3],\n",
       "       [ 4,  5,  6,  7],\n",
       "       [ 8,  9, 10, 11],\n",
       "       [12, 13, 14, 15],\n",
       "       [16, 17, 18, 19],\n",
       "       [20, 21, 22, 23]])"
      ]
     },
     "execution_count": 18,
     "metadata": {},
     "output_type": "execute_result"
    }
   ],
   "source": [
    "arr11=np.arange(24).reshape(6,4)\n",
    "arr11"
   ]
  },
  {
   "cell_type": "code",
   "execution_count": 19,
   "id": "a9ebce10",
   "metadata": {},
   "outputs": [
    {
     "name": "stdout",
     "output_type": "stream",
     "text": [
      "0\n",
      "1\n",
      "2\n",
      "3\n",
      "4\n",
      "5\n",
      "6\n",
      "7\n",
      "8\n",
      "9\n",
      "10\n",
      "11\n",
      "12\n",
      "13\n",
      "14\n",
      "15\n",
      "16\n",
      "17\n",
      "18\n",
      "19\n",
      "20\n",
      "21\n",
      "22\n",
      "23\n"
     ]
    }
   ],
   "source": [
    "for i in np.nditer(arr11):\n",
    "    print(i)"
   ]
  },
  {
   "cell_type": "code",
   "execution_count": 20,
   "id": "2b95fc9e",
   "metadata": {},
   "outputs": [],
   "source": [
    "import numpy as np"
   ]
  },
  {
   "cell_type": "code",
   "execution_count": 21,
   "id": "159ea86b",
   "metadata": {},
   "outputs": [],
   "source": [
    "arr = np.linspace(1, 5, 4)"
   ]
  },
  {
   "cell_type": "code",
   "execution_count": 22,
   "id": "a5c8948a",
   "metadata": {},
   "outputs": [
    {
     "data": {
      "text/plain": [
       "array([1.        , 2.33333333, 3.66666667, 5.        ])"
      ]
     },
     "execution_count": 22,
     "metadata": {},
     "output_type": "execute_result"
    }
   ],
   "source": [
    "arr"
   ]
  },
  {
   "cell_type": "code",
   "execution_count": 23,
   "id": "eeff67a1",
   "metadata": {},
   "outputs": [
    {
     "data": {
      "text/plain": [
       "np.float64(12.0)"
      ]
     },
     "execution_count": 23,
     "metadata": {},
     "output_type": "execute_result"
    }
   ],
   "source": [
    "np.sum(arr)"
   ]
  },
  {
   "cell_type": "code",
   "execution_count": 24,
   "id": "90531451",
   "metadata": {},
   "outputs": [
    {
     "data": {
      "text/plain": [
       "(np.float64(5.0), np.float64(1.0))"
      ]
     },
     "execution_count": 24,
     "metadata": {},
     "output_type": "execute_result"
    }
   ],
   "source": [
    "np.max(arr), np.min(arr)"
   ]
  },
  {
   "cell_type": "code",
   "execution_count": 25,
   "id": "876760e4",
   "metadata": {},
   "outputs": [
    {
     "data": {
      "text/plain": [
       "array([1, 2, 3])"
      ]
     },
     "execution_count": 25,
     "metadata": {},
     "output_type": "execute_result"
    }
   ],
   "source": [
    "np.unique([1, 2, 2, 3, 1])"
   ]
  },
  {
   "cell_type": "code",
   "execution_count": 26,
   "id": "441ead77",
   "metadata": {},
   "outputs": [
    {
     "data": {
      "text/plain": [
       "array([[ 4,  4],\n",
       "       [10,  8]])"
      ]
     },
     "execution_count": 26,
     "metadata": {},
     "output_type": "execute_result"
    }
   ],
   "source": [
    "a = np.array([[1, 2], [3, 4]])\n",
    "b = np.array([[2, 0], [1, 2]])\n",
    "np.dot(a, b)"
   ]
  },
  {
   "cell_type": "code",
   "execution_count": 27,
   "id": "40606d82",
   "metadata": {},
   "outputs": [
    {
     "data": {
      "text/plain": [
       "array([1, 2, 3, 4])"
      ]
     },
     "execution_count": 27,
     "metadata": {},
     "output_type": "execute_result"
    }
   ],
   "source": [
    "a = np.array([1, 2])\n",
    "b = np.array([3, 4])\n",
    "np.concatenate((a, b))"
   ]
  },
  {
   "cell_type": "code",
   "execution_count": 28,
   "id": "870decd2",
   "metadata": {},
   "outputs": [
    {
     "data": {
      "text/plain": [
       "array([ 0,  1,  2,  3,  4,  5,  6,  7,  8,  9, 10, 11, 12, 13, 14, 15, 16,\n",
       "       17, 18, 19, 20, 21, 22, 23])"
      ]
     },
     "execution_count": 28,
     "metadata": {},
     "output_type": "execute_result"
    }
   ],
   "source": [
    "arr11.ravel()"
   ]
  },
  {
   "cell_type": "code",
   "execution_count": 29,
   "id": "3366b075",
   "metadata": {},
   "outputs": [
    {
     "data": {
      "text/plain": [
       "array([[ 0,  4,  8, 12, 16, 20],\n",
       "       [ 1,  5,  9, 13, 17, 21],\n",
       "       [ 2,  6, 10, 14, 18, 22],\n",
       "       [ 3,  7, 11, 15, 19, 23]])"
      ]
     },
     "execution_count": 29,
     "metadata": {},
     "output_type": "execute_result"
    }
   ],
   "source": [
    "arr11.transpose()"
   ]
  },
  {
   "cell_type": "code",
   "execution_count": 30,
   "id": "8ed1ebcd",
   "metadata": {},
   "outputs": [
    {
     "data": {
      "text/plain": [
       "array([0, 1, 2, 3])"
      ]
     },
     "execution_count": 30,
     "metadata": {},
     "output_type": "execute_result"
    }
   ],
   "source": [
    "arr11[0]"
   ]
  },
  {
   "cell_type": "code",
   "execution_count": 32,
   "id": "f306fd41",
   "metadata": {},
   "outputs": [],
   "source": [
    "x=np.linspace(-40,40,100)"
   ]
  },
  {
   "cell_type": "code",
   "execution_count": 33,
   "id": "c3a7beff",
   "metadata": {},
   "outputs": [
    {
     "data": {
      "text/plain": [
       "array([-40.        , -39.19191919, -38.38383838, -37.57575758,\n",
       "       -36.76767677, -35.95959596, -35.15151515, -34.34343434,\n",
       "       -33.53535354, -32.72727273, -31.91919192, -31.11111111,\n",
       "       -30.3030303 , -29.49494949, -28.68686869, -27.87878788,\n",
       "       -27.07070707, -26.26262626, -25.45454545, -24.64646465,\n",
       "       -23.83838384, -23.03030303, -22.22222222, -21.41414141,\n",
       "       -20.60606061, -19.7979798 , -18.98989899, -18.18181818,\n",
       "       -17.37373737, -16.56565657, -15.75757576, -14.94949495,\n",
       "       -14.14141414, -13.33333333, -12.52525253, -11.71717172,\n",
       "       -10.90909091, -10.1010101 ,  -9.29292929,  -8.48484848,\n",
       "        -7.67676768,  -6.86868687,  -6.06060606,  -5.25252525,\n",
       "        -4.44444444,  -3.63636364,  -2.82828283,  -2.02020202,\n",
       "        -1.21212121,  -0.4040404 ,   0.4040404 ,   1.21212121,\n",
       "         2.02020202,   2.82828283,   3.63636364,   4.44444444,\n",
       "         5.25252525,   6.06060606,   6.86868687,   7.67676768,\n",
       "         8.48484848,   9.29292929,  10.1010101 ,  10.90909091,\n",
       "        11.71717172,  12.52525253,  13.33333333,  14.14141414,\n",
       "        14.94949495,  15.75757576,  16.56565657,  17.37373737,\n",
       "        18.18181818,  18.98989899,  19.7979798 ,  20.60606061,\n",
       "        21.41414141,  22.22222222,  23.03030303,  23.83838384,\n",
       "        24.64646465,  25.45454545,  26.26262626,  27.07070707,\n",
       "        27.87878788,  28.68686869,  29.49494949,  30.3030303 ,\n",
       "        31.11111111,  31.91919192,  32.72727273,  33.53535354,\n",
       "        34.34343434,  35.15151515,  35.95959596,  36.76767677,\n",
       "        37.57575758,  38.38383838,  39.19191919,  40.        ])"
      ]
     },
     "execution_count": 33,
     "metadata": {},
     "output_type": "execute_result"
    }
   ],
   "source": [
    "x"
   ]
  },
  {
   "cell_type": "code",
   "execution_count": 34,
   "id": "dc8da660",
   "metadata": {},
   "outputs": [
    {
     "data": {
      "text/plain": [
       "100"
      ]
     },
     "execution_count": 34,
     "metadata": {},
     "output_type": "execute_result"
    }
   ],
   "source": [
    "x.size"
   ]
  },
  {
   "cell_type": "code",
   "execution_count": 35,
   "id": "330dc2c9",
   "metadata": {},
   "outputs": [],
   "source": [
    "y=np.sin(x)"
   ]
  },
  {
   "cell_type": "code",
   "execution_count": 36,
   "id": "89f8c495",
   "metadata": {},
   "outputs": [
    {
     "data": {
      "text/plain": [
       "100"
      ]
     },
     "execution_count": 36,
     "metadata": {},
     "output_type": "execute_result"
    }
   ],
   "source": [
    "y.size"
   ]
  },
  {
   "cell_type": "code",
   "execution_count": 40,
   "id": "660f9fed",
   "metadata": {},
   "outputs": [
    {
     "name": "stdout",
     "output_type": "stream",
     "text": [
      "Collecting matplotlib\n",
      "  Downloading matplotlib-3.10.3-cp312-cp312-win_amd64.whl.metadata (11 kB)\n",
      "Collecting contourpy>=1.0.1 (from matplotlib)\n",
      "  Downloading contourpy-1.3.2-cp312-cp312-win_amd64.whl.metadata (5.5 kB)\n",
      "Collecting cycler>=0.10 (from matplotlib)\n",
      "  Downloading cycler-0.12.1-py3-none-any.whl.metadata (3.8 kB)\n",
      "Collecting fonttools>=4.22.0 (from matplotlib)\n",
      "  Downloading fonttools-4.58.5-cp312-cp312-win_amd64.whl.metadata (109 kB)\n",
      "Collecting kiwisolver>=1.3.1 (from matplotlib)\n",
      "  Downloading kiwisolver-1.4.8-cp312-cp312-win_amd64.whl.metadata (6.3 kB)\n",
      "Requirement already satisfied: numpy>=1.23 in c:\\users\\chmeh\\anaconda3\\envs\\python12\\lib\\site-packages (from matplotlib) (2.1.1)\n",
      "Requirement already satisfied: packaging>=20.0 in c:\\users\\chmeh\\appdata\\roaming\\python\\python312\\site-packages (from matplotlib) (25.0)\n",
      "Collecting pillow>=8 (from matplotlib)\n",
      "  Downloading pillow-11.3.0-cp312-cp312-win_amd64.whl.metadata (9.2 kB)\n",
      "Collecting pyparsing>=2.3.1 (from matplotlib)\n",
      "  Downloading pyparsing-3.2.3-py3-none-any.whl.metadata (5.0 kB)\n",
      "Requirement already satisfied: python-dateutil>=2.7 in c:\\users\\chmeh\\appdata\\roaming\\python\\python312\\site-packages (from matplotlib) (2.9.0.post0)\n",
      "Requirement already satisfied: six>=1.5 in c:\\users\\chmeh\\appdata\\roaming\\python\\python312\\site-packages (from python-dateutil>=2.7->matplotlib) (1.17.0)\n",
      "Downloading matplotlib-3.10.3-cp312-cp312-win_amd64.whl (8.1 MB)\n",
      "   ---------------------------------------- 0.0/8.1 MB ? eta -:--:--\n",
      "   ---------------------------------------- 0.0/8.1 MB ? eta -:--:--\n",
      "   ---------------------------------------- 0.0/8.1 MB ? eta -:--:--\n",
      "   - -------------------------------------- 0.3/8.1 MB ? eta -:--:--\n",
      "   - -------------------------------------- 0.3/8.1 MB ? eta -:--:--\n",
      "   - -------------------------------------- 0.3/8.1 MB ? eta -:--:--\n",
      "   - -------------------------------------- 0.3/8.1 MB ? eta -:--:--\n",
      "   -- ------------------------------------- 0.5/8.1 MB 342.2 kB/s eta 0:00:23\n",
      "   -- ------------------------------------- 0.5/8.1 MB 342.2 kB/s eta 0:00:23\n",
      "   -- ------------------------------------- 0.5/8.1 MB 342.2 kB/s eta 0:00:23\n",
      "   --- ------------------------------------ 0.8/8.1 MB 390.1 kB/s eta 0:00:19\n",
      "   --- ------------------------------------ 0.8/8.1 MB 390.1 kB/s eta 0:00:19\n",
      "   --- ------------------------------------ 0.8/8.1 MB 390.1 kB/s eta 0:00:19\n",
      "   ----- ---------------------------------- 1.0/8.1 MB 399.4 kB/s eta 0:00:18\n",
      "   ----- ---------------------------------- 1.0/8.1 MB 399.4 kB/s eta 0:00:18\n",
      "   ----- ---------------------------------- 1.0/8.1 MB 399.4 kB/s eta 0:00:18\n",
      "   ------ --------------------------------- 1.3/8.1 MB 387.9 kB/s eta 0:00:18\n",
      "   ------ --------------------------------- 1.3/8.1 MB 387.9 kB/s eta 0:00:18\n",
      "   ------ --------------------------------- 1.3/8.1 MB 387.9 kB/s eta 0:00:18\n",
      "   ------- -------------------------------- 1.6/8.1 MB 388.4 kB/s eta 0:00:17\n",
      "   ------- -------------------------------- 1.6/8.1 MB 388.4 kB/s eta 0:00:17\n",
      "   ------- -------------------------------- 1.6/8.1 MB 388.4 kB/s eta 0:00:17\n",
      "   --------- ------------------------------ 1.8/8.1 MB 401.0 kB/s eta 0:00:16\n",
      "   --------- ------------------------------ 1.8/8.1 MB 401.0 kB/s eta 0:00:16\n",
      "   ---------- ----------------------------- 2.1/8.1 MB 409.1 kB/s eta 0:00:15\n",
      "   ---------- ----------------------------- 2.1/8.1 MB 409.1 kB/s eta 0:00:15\n",
      "   ---------- ----------------------------- 2.1/8.1 MB 409.1 kB/s eta 0:00:15\n",
      "   ----------- ---------------------------- 2.4/8.1 MB 419.4 kB/s eta 0:00:14\n",
      "   ----------- ---------------------------- 2.4/8.1 MB 419.4 kB/s eta 0:00:14\n",
      "   ------------ --------------------------- 2.6/8.1 MB 429.0 kB/s eta 0:00:13\n",
      "   ------------ --------------------------- 2.6/8.1 MB 429.0 kB/s eta 0:00:13\n",
      "   ------------ --------------------------- 2.6/8.1 MB 429.0 kB/s eta 0:00:13\n",
      "   -------------- ------------------------- 2.9/8.1 MB 432.4 kB/s eta 0:00:12\n",
      "   -------------- ------------------------- 2.9/8.1 MB 432.4 kB/s eta 0:00:12\n",
      "   --------------- ------------------------ 3.1/8.1 MB 435.3 kB/s eta 0:00:12\n",
      "   --------------- ------------------------ 3.1/8.1 MB 435.3 kB/s eta 0:00:12\n",
      "   --------------- ------------------------ 3.1/8.1 MB 435.3 kB/s eta 0:00:12\n",
      "   ---------------- ----------------------- 3.4/8.1 MB 438.6 kB/s eta 0:00:11\n",
      "   ---------------- ----------------------- 3.4/8.1 MB 438.6 kB/s eta 0:00:11\n",
      "   ---------------- ----------------------- 3.4/8.1 MB 438.6 kB/s eta 0:00:11\n",
      "   ---------------- ----------------------- 3.4/8.1 MB 438.6 kB/s eta 0:00:11\n",
      "   ------------------ --------------------- 3.7/8.1 MB 431.0 kB/s eta 0:00:11\n",
      "   ------------------ --------------------- 3.7/8.1 MB 431.0 kB/s eta 0:00:11\n",
      "   ------------------ --------------------- 3.7/8.1 MB 431.0 kB/s eta 0:00:11\n",
      "   ------------------- -------------------- 3.9/8.1 MB 430.1 kB/s eta 0:00:10\n",
      "   ------------------- -------------------- 3.9/8.1 MB 430.1 kB/s eta 0:00:10\n",
      "   ------------------- -------------------- 3.9/8.1 MB 430.1 kB/s eta 0:00:10\n",
      "   -------------------- ------------------- 4.2/8.1 MB 425.1 kB/s eta 0:00:10\n",
      "   -------------------- ------------------- 4.2/8.1 MB 425.1 kB/s eta 0:00:10\n",
      "   -------------------- ------------------- 4.2/8.1 MB 425.1 kB/s eta 0:00:10\n",
      "   ---------------------- ----------------- 4.5/8.1 MB 421.4 kB/s eta 0:00:09\n",
      "   ---------------------- ----------------- 4.5/8.1 MB 421.4 kB/s eta 0:00:09\n",
      "   ---------------------- ----------------- 4.5/8.1 MB 421.4 kB/s eta 0:00:09\n",
      "   ----------------------- ---------------- 4.7/8.1 MB 418.8 kB/s eta 0:00:08\n",
      "   ----------------------- ---------------- 4.7/8.1 MB 418.8 kB/s eta 0:00:08\n",
      "   ----------------------- ---------------- 4.7/8.1 MB 418.8 kB/s eta 0:00:08\n",
      "   ----------------------- ---------------- 4.7/8.1 MB 418.8 kB/s eta 0:00:08\n",
      "   ----------------------- ---------------- 4.7/8.1 MB 418.8 kB/s eta 0:00:08\n",
      "   ------------------------ --------------- 5.0/8.1 MB 406.4 kB/s eta 0:00:08\n",
      "   ------------------------ --------------- 5.0/8.1 MB 406.4 kB/s eta 0:00:08\n",
      "   ------------------------ --------------- 5.0/8.1 MB 406.4 kB/s eta 0:00:08\n",
      "   ------------------------- -------------- 5.2/8.1 MB 405.5 kB/s eta 0:00:07\n",
      "   ------------------------- -------------- 5.2/8.1 MB 405.5 kB/s eta 0:00:07\n",
      "   ------------------------- -------------- 5.2/8.1 MB 405.5 kB/s eta 0:00:07\n",
      "   --------------------------- ------------ 5.5/8.1 MB 408.2 kB/s eta 0:00:07\n",
      "   --------------------------- ------------ 5.5/8.1 MB 408.2 kB/s eta 0:00:07\n",
      "   ---------------------------- ----------- 5.8/8.1 MB 412.5 kB/s eta 0:00:06\n",
      "   ---------------------------- ----------- 5.8/8.1 MB 412.5 kB/s eta 0:00:06\n",
      "   ---------------------------- ----------- 5.8/8.1 MB 412.5 kB/s eta 0:00:06\n",
      "   ----------------------------- ---------- 6.0/8.1 MB 413.3 kB/s eta 0:00:05\n",
      "   ----------------------------- ---------- 6.0/8.1 MB 413.3 kB/s eta 0:00:05\n",
      "   ----------------------------- ---------- 6.0/8.1 MB 413.3 kB/s eta 0:00:05\n",
      "   ------------------------------- -------- 6.3/8.1 MB 413.6 kB/s eta 0:00:05\n",
      "   ------------------------------- -------- 6.3/8.1 MB 413.6 kB/s eta 0:00:05\n",
      "   ------------------------------- -------- 6.3/8.1 MB 413.6 kB/s eta 0:00:05\n",
      "   -------------------------------- ------- 6.6/8.1 MB 411.7 kB/s eta 0:00:04\n",
      "   -------------------------------- ------- 6.6/8.1 MB 411.7 kB/s eta 0:00:04\n",
      "   -------------------------------- ------- 6.6/8.1 MB 411.7 kB/s eta 0:00:04\n",
      "   --------------------------------- ------ 6.8/8.1 MB 414.9 kB/s eta 0:00:04\n",
      "   --------------------------------- ------ 6.8/8.1 MB 414.9 kB/s eta 0:00:04\n",
      "   --------------------------------- ------ 6.8/8.1 MB 414.9 kB/s eta 0:00:04\n",
      "   ----------------------------------- ---- 7.1/8.1 MB 415.4 kB/s eta 0:00:03\n",
      "   ----------------------------------- ---- 7.1/8.1 MB 415.4 kB/s eta 0:00:03\n",
      "   ----------------------------------- ---- 7.1/8.1 MB 415.4 kB/s eta 0:00:03\n",
      "   ------------------------------------ --- 7.3/8.1 MB 416.3 kB/s eta 0:00:02\n",
      "   ------------------------------------ --- 7.3/8.1 MB 416.3 kB/s eta 0:00:02\n",
      "   ------------------------------------ --- 7.3/8.1 MB 416.3 kB/s eta 0:00:02\n",
      "   ------------------------------------- -- 7.6/8.1 MB 415.7 kB/s eta 0:00:02\n",
      "   ------------------------------------- -- 7.6/8.1 MB 415.7 kB/s eta 0:00:02\n",
      "   ------------------------------------- -- 7.6/8.1 MB 415.7 kB/s eta 0:00:02\n",
      "   -------------------------------------- - 7.9/8.1 MB 412.7 kB/s eta 0:00:01\n",
      "   -------------------------------------- - 7.9/8.1 MB 412.7 kB/s eta 0:00:01\n",
      "   ---------------------------------------- 8.1/8.1 MB 412.9 kB/s eta 0:00:00\n",
      "Downloading contourpy-1.3.2-cp312-cp312-win_amd64.whl (223 kB)\n",
      "Downloading cycler-0.12.1-py3-none-any.whl (8.3 kB)\n",
      "Downloading fonttools-4.58.5-cp312-cp312-win_amd64.whl (2.2 MB)\n",
      "   ---------------------------------------- 0.0/2.2 MB ? eta -:--:--\n",
      "   ---------------------------------------- 0.0/2.2 MB ? eta -:--:--\n",
      "   ---------------------------------------- 0.0/2.2 MB ? eta -:--:--\n",
      "   ---- ----------------------------------- 0.3/2.2 MB ? eta -:--:--\n",
      "   ---- ----------------------------------- 0.3/2.2 MB ? eta -:--:--\n",
      "   ---- ----------------------------------- 0.3/2.2 MB ? eta -:--:--\n",
      "   --------- ------------------------------ 0.5/2.2 MB 479.2 kB/s eta 0:00:04\n",
      "   --------- ------------------------------ 0.5/2.2 MB 479.2 kB/s eta 0:00:04\n",
      "   -------------- ------------------------- 0.8/2.2 MB 459.9 kB/s eta 0:00:04\n",
      "   -------------- ------------------------- 0.8/2.2 MB 459.9 kB/s eta 0:00:04\n",
      "   -------------- ------------------------- 0.8/2.2 MB 459.9 kB/s eta 0:00:04\n",
      "   ------------------ --------------------- 1.0/2.2 MB 466.2 kB/s eta 0:00:03\n",
      "   ------------------ --------------------- 1.0/2.2 MB 466.2 kB/s eta 0:00:03\n",
      "   ----------------------- ---------------- 1.3/2.2 MB 469.4 kB/s eta 0:00:02\n",
      "   ----------------------- ---------------- 1.3/2.2 MB 469.4 kB/s eta 0:00:02\n",
      "   ----------------------- ---------------- 1.3/2.2 MB 469.4 kB/s eta 0:00:02\n",
      "   ---------------------------- ----------- 1.6/2.2 MB 463.5 kB/s eta 0:00:02\n",
      "   ---------------------------- ----------- 1.6/2.2 MB 463.5 kB/s eta 0:00:02\n",
      "   ---------------------------- ----------- 1.6/2.2 MB 463.5 kB/s eta 0:00:02\n",
      "   -------------------------------- ------- 1.8/2.2 MB 466.0 kB/s eta 0:00:01\n",
      "   -------------------------------- ------- 1.8/2.2 MB 466.0 kB/s eta 0:00:01\n",
      "   ------------------------------------- -- 2.1/2.2 MB 462.5 kB/s eta 0:00:01\n",
      "   ------------------------------------- -- 2.1/2.2 MB 462.5 kB/s eta 0:00:01\n",
      "   ------------------------------------- -- 2.1/2.2 MB 462.5 kB/s eta 0:00:01\n",
      "   ------------------------------------- -- 2.1/2.2 MB 462.5 kB/s eta 0:00:01\n",
      "   ------------------------------------- -- 2.1/2.2 MB 462.5 kB/s eta 0:00:01\n",
      "   ---------------------------------------- 2.2/2.2 MB 398.6 kB/s eta 0:00:00\n",
      "Downloading kiwisolver-1.4.8-cp312-cp312-win_amd64.whl (71 kB)\n",
      "Downloading pillow-11.3.0-cp312-cp312-win_amd64.whl (7.0 MB)\n",
      "   ---------------------------------------- 0.0/7.0 MB ? eta -:--:--\n",
      "   ---------------------------------------- 0.0/7.0 MB ? eta -:--:--\n",
      "   ---------------------------------------- 0.0/7.0 MB ? eta -:--:--\n",
      "   - -------------------------------------- 0.3/7.0 MB ? eta -:--:--\n",
      "   - -------------------------------------- 0.3/7.0 MB ? eta -:--:--\n",
      "   - -------------------------------------- 0.3/7.0 MB ? eta -:--:--\n",
      "   --- ------------------------------------ 0.5/7.0 MB 430.4 kB/s eta 0:00:16\n",
      "   --- ------------------------------------ 0.5/7.0 MB 430.4 kB/s eta 0:00:16\n",
      "   --- ------------------------------------ 0.5/7.0 MB 430.4 kB/s eta 0:00:16\n",
      "   ---- ----------------------------------- 0.8/7.0 MB 404.2 kB/s eta 0:00:16\n",
      "   ---- ----------------------------------- 0.8/7.0 MB 404.2 kB/s eta 0:00:16\n",
      "   ---- ----------------------------------- 0.8/7.0 MB 404.2 kB/s eta 0:00:16\n",
      "   ------ --------------------------------- 1.0/7.0 MB 416.1 kB/s eta 0:00:15\n",
      "   ------ --------------------------------- 1.0/7.0 MB 416.1 kB/s eta 0:00:15\n",
      "   ------ --------------------------------- 1.0/7.0 MB 416.1 kB/s eta 0:00:15\n",
      "   ------- -------------------------------- 1.3/7.0 MB 424.7 kB/s eta 0:00:14\n",
      "   ------- -------------------------------- 1.3/7.0 MB 424.7 kB/s eta 0:00:14\n",
      "   --------- ------------------------------ 1.6/7.0 MB 434.7 kB/s eta 0:00:13\n",
      "   --------- ------------------------------ 1.6/7.0 MB 434.7 kB/s eta 0:00:13\n",
      "   --------- ------------------------------ 1.6/7.0 MB 434.7 kB/s eta 0:00:13\n",
      "   ---------- ----------------------------- 1.8/7.0 MB 441.6 kB/s eta 0:00:12\n",
      "   ---------- ----------------------------- 1.8/7.0 MB 441.6 kB/s eta 0:00:12\n",
      "   ---------- ----------------------------- 1.8/7.0 MB 441.6 kB/s eta 0:00:12\n",
      "   ------------ --------------------------- 2.1/7.0 MB 443.2 kB/s eta 0:00:12\n",
      "   ------------ --------------------------- 2.1/7.0 MB 443.2 kB/s eta 0:00:12\n",
      "   ------------- -------------------------- 2.4/7.0 MB 448.9 kB/s eta 0:00:11\n",
      "   ------------- -------------------------- 2.4/7.0 MB 448.9 kB/s eta 0:00:11\n",
      "   ------------- -------------------------- 2.4/7.0 MB 448.9 kB/s eta 0:00:11\n",
      "   --------------- ------------------------ 2.6/7.0 MB 450.8 kB/s eta 0:00:10\n",
      "   --------------- ------------------------ 2.6/7.0 MB 450.8 kB/s eta 0:00:10\n",
      "   ---------------- ----------------------- 2.9/7.0 MB 454.7 kB/s eta 0:00:10\n",
      "   ---------------- ----------------------- 2.9/7.0 MB 454.7 kB/s eta 0:00:10\n",
      "   ---------------- ----------------------- 2.9/7.0 MB 454.7 kB/s eta 0:00:10\n",
      "   ------------------ --------------------- 3.1/7.0 MB 455.7 kB/s eta 0:00:09\n",
      "   ------------------ --------------------- 3.1/7.0 MB 455.7 kB/s eta 0:00:09\n",
      "   ------------------- -------------------- 3.4/7.0 MB 457.6 kB/s eta 0:00:08\n",
      "   ------------------- -------------------- 3.4/7.0 MB 457.6 kB/s eta 0:00:08\n",
      "   ------------------- -------------------- 3.4/7.0 MB 457.6 kB/s eta 0:00:08\n",
      "   --------------------- ------------------ 3.7/7.0 MB 460.1 kB/s eta 0:00:08\n",
      "   --------------------- ------------------ 3.7/7.0 MB 460.1 kB/s eta 0:00:08\n",
      "   ---------------------- ----------------- 3.9/7.0 MB 458.8 kB/s eta 0:00:07\n",
      "   ---------------------- ----------------- 3.9/7.0 MB 458.8 kB/s eta 0:00:07\n",
      "   ---------------------- ----------------- 3.9/7.0 MB 458.8 kB/s eta 0:00:07\n",
      "   ------------------------ --------------- 4.2/7.0 MB 460.1 kB/s eta 0:00:07\n",
      "   ------------------------ --------------- 4.2/7.0 MB 460.1 kB/s eta 0:00:07\n",
      "   ------------------------- -------------- 4.5/7.0 MB 462.8 kB/s eta 0:00:06\n",
      "   ------------------------- -------------- 4.5/7.0 MB 462.8 kB/s eta 0:00:06\n",
      "   ------------------------- -------------- 4.5/7.0 MB 462.8 kB/s eta 0:00:06\n",
      "   --------------------------- ------------ 4.7/7.0 MB 461.5 kB/s eta 0:00:05\n",
      "   --------------------------- ------------ 4.7/7.0 MB 461.5 kB/s eta 0:00:05\n",
      "   --------------------------- ------------ 4.7/7.0 MB 461.5 kB/s eta 0:00:05\n",
      "   ---------------------------- ----------- 5.0/7.0 MB 463.2 kB/s eta 0:00:05\n",
      "   ---------------------------- ----------- 5.0/7.0 MB 463.2 kB/s eta 0:00:05\n",
      "   ------------------------------ --------- 5.2/7.0 MB 464.7 kB/s eta 0:00:04\n",
      "   ------------------------------ --------- 5.2/7.0 MB 464.7 kB/s eta 0:00:04\n",
      "   ------------------------------ --------- 5.2/7.0 MB 464.7 kB/s eta 0:00:04\n",
      "   ------------------------------- -------- 5.5/7.0 MB 464.8 kB/s eta 0:00:04\n",
      "   ------------------------------- -------- 5.5/7.0 MB 464.8 kB/s eta 0:00:04\n",
      "   --------------------------------- ------ 5.8/7.0 MB 464.2 kB/s eta 0:00:03\n",
      "   --------------------------------- ------ 5.8/7.0 MB 464.2 kB/s eta 0:00:03\n",
      "   --------------------------------- ------ 5.8/7.0 MB 464.2 kB/s eta 0:00:03\n",
      "   ---------------------------------- ----- 6.0/7.0 MB 464.9 kB/s eta 0:00:03\n",
      "   ---------------------------------- ----- 6.0/7.0 MB 464.9 kB/s eta 0:00:03\n",
      "   ------------------------------------ --- 6.3/7.0 MB 465.5 kB/s eta 0:00:02\n",
      "   ------------------------------------ --- 6.3/7.0 MB 465.5 kB/s eta 0:00:02\n",
      "   ------------------------------------ --- 6.3/7.0 MB 465.5 kB/s eta 0:00:02\n",
      "   ------------------------------------- -- 6.6/7.0 MB 468.2 kB/s eta 0:00:01\n",
      "   ------------------------------------- -- 6.6/7.0 MB 468.2 kB/s eta 0:00:01\n",
      "   ---------------------------------------  6.8/7.0 MB 468.6 kB/s eta 0:00:01\n",
      "   ---------------------------------------  6.8/7.0 MB 468.6 kB/s eta 0:00:01\n",
      "   ---------------------------------------- 7.0/7.0 MB 466.2 kB/s eta 0:00:00\n",
      "Downloading pyparsing-3.2.3-py3-none-any.whl (111 kB)\n",
      "Installing collected packages: pyparsing, pillow, kiwisolver, fonttools, cycler, contourpy, matplotlib\n",
      "Successfully installed contourpy-1.3.2 cycler-0.12.1 fonttools-4.58.5 kiwisolver-1.4.8 matplotlib-3.10.3 pillow-11.3.0 pyparsing-3.2.3\n"
     ]
    }
   ],
   "source": [
    "!pip install matplotlib"
   ]
  },
  {
   "cell_type": "code",
   "execution_count": 42,
   "id": "f327d7ad",
   "metadata": {},
   "outputs": [],
   "source": [
    "import matplotlib.pyplot as plt\n",
    "%matplotlib inline"
   ]
  },
  {
   "cell_type": "code",
   "execution_count": 43,
   "id": "f2691220",
   "metadata": {},
   "outputs": [
    {
     "data": {
      "text/plain": [
       "[<matplotlib.lines.Line2D at 0x21ccd5ee5a0>]"
      ]
     },
     "execution_count": 43,
     "metadata": {},
     "output_type": "execute_result"
    },
    {
     "data": {
      "image/png": "[encoded data removed]",
      "text/plain": [
       "<Figure size 640x480 with 1 Axes>"
      ]
     },
     "metadata": {},
     "output_type": "display_data"
    }
   ],
   "source": [
    "plt.plot(x,y)"
   ]
  },
  {
   "cell_type": "code",
   "execution_count": 44,
   "id": "819677a7",
   "metadata": {},
   "outputs": [
    {
     "data": {
      "image/png": "[encoded data removed]",
      "text/plain": [
       "<Figure size 640x480 with 1 Axes>"
      ]
     },
     "metadata": {},
     "output_type": "display_data"
    }
   ],
   "source": [
    "x = np.linspace(0, 10, 100)\n",
    "y = np.sin(x)\n",
    "\n",
    "plt.plot(x, y)\n",
    "plt.show()"
   ]
  },
  {
   "cell_type": "code",
   "execution_count": 45,
   "id": "badfcd85",
   "metadata": {},
   "outputs": [],
   "source": [
    "y=x*x+2*x+6"
   ]
  },
  {
   "cell_type": "code",
   "execution_count": 46,
   "id": "06bc15b0",
   "metadata": {},
   "outputs": [
    {
     "data": {
      "text/plain": [
       "[<matplotlib.lines.Line2D at 0x21ccf8793a0>]"
      ]
     },
     "execution_count": 46,
     "metadata": {},
     "output_type": "execute_result"
    },
    {
     "data": {
      "image/png": "[encoded data removed]",
      "text/plain": [
       "<Figure size 640x480 with 1 Axes>"
      ]
     },
     "metadata": {},
     "output_type": "display_data"
    }
   ],
   "source": [
    "plt.plot(x,y)"
   ]
  },
  {
   "cell_type": "code",
   "execution_count": 47,
   "id": "2c7586a6",
   "metadata": {},
   "outputs": [
    {
     "name": "stdout",
     "output_type": "stream",
     "text": [
      "[6 7 8]\n"
     ]
    }
   ],
   "source": [
    "import numpy as np\n",
    "\n",
    "arr = np.array([1, 2, 3])\n",
    "result = arr + 5\n",
    "print(result)"
   ]
  },
  {
   "cell_type": "code",
   "execution_count": 48,
   "id": "9a4473d4",
   "metadata": {},
   "outputs": [
    {
     "name": "stdout",
     "output_type": "stream",
     "text": [
      "[[11 22 33]\n",
      " [14 25 36]]\n"
     ]
    }
   ],
   "source": [
    "matrix = np.array([[1, 2, 3],\n",
    "                   [4, 5, 6]])\n",
    "row = np.array([10, 20, 30])\n",
    "result = matrix + row\n",
    "print(result)"
   ]
  },
  {
   "cell_type": "code",
   "execution_count": 49,
   "id": "243bb684",
   "metadata": {},
   "outputs": [],
   "source": [
    "a = np.array([1, 2, 3])         \n",
    "b = np.array([[10, 20]])"
   ]
  },
  {
   "cell_type": "code",
   "execution_count": 50,
   "id": "0d4b430d",
   "metadata": {},
   "outputs": [
    {
     "name": "stdout",
     "output_type": "stream",
     "text": [
      "[1 2 3]\n",
      "[[10 20]]\n"
     ]
    }
   ],
   "source": [
    "print(a)\n",
    "print(b)"
   ]
  },
  {
   "cell_type": "code",
   "execution_count": 51,
   "id": "9998df82",
   "metadata": {},
   "outputs": [
    {
     "data": {
      "text/plain": [
       "array([[ 8, 10, 12, 14],\n",
       "       [16, 18, 20, 22]])"
      ]
     },
     "execution_count": 51,
     "metadata": {},
     "output_type": "execute_result"
    }
   ],
   "source": [
    "a1=np.arange(8).reshape(2,4)\n",
    "a2=np.arange(8,16).reshape(2,4)\n",
    "\n",
    "a1 + a2"
   ]
  },
  {
   "cell_type": "code",
   "execution_count": 52,
   "id": "60d7f04d",
   "metadata": {},
   "outputs": [],
   "source": [
    "a=np.random.randint(1,50,6)"
   ]
  },
  {
   "cell_type": "code",
   "execution_count": 53,
   "id": "da36ef26",
   "metadata": {},
   "outputs": [
    {
     "data": {
      "text/plain": [
       "array([46,  5, 17, 21, 38, 40], dtype=int32)"
      ]
     },
     "execution_count": 53,
     "metadata": {},
     "output_type": "execute_result"
    }
   ],
   "source": [
    "a"
   ]
  },
  {
   "cell_type": "code",
   "execution_count": null,
   "id": "797dffbc",
   "metadata": {},
   "outputs": [],
   "source": []
  }
 ],
 "metadata": {
  "kernelspec": {
   "display_name": "Python 3",
   "language": "python",
   "name": "python3"
  },
  "language_info": {
   "codemirror_mode": {
    "name": "ipython",
    "version": 3
   },
   "file_extension": ".py",
   "mimetype": "text/x-python",
   "name": "python",
   "nbconvert_exporter": "python",
   "pygments_lexer": "ipython3",
   "version": "3.12.5"
  }
 },
 "nbformat": 4,
 "nbformat_minor": 5
}
