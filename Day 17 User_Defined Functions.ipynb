{
 "cells": [
  {
   "cell_type": "code",
   "execution_count": 7,
   "id": "a97dfac8",
   "metadata": {},
   "outputs": [],
   "source": [
    "def is_even(number):\n",
    "    if number% 2 == 0:\n",
    "        return 'Even'\n",
    "    else:\n",
    "        return 'Odd'\n"
   ]
  },
  {
   "cell_type": "code",
   "execution_count": 8,
   "id": "834df650",
   "metadata": {},
   "outputs": [
    {
     "name": "stdout",
     "output_type": "stream",
     "text": [
      "Odd\n",
      "Even\n",
      "Odd\n",
      "Even\n",
      "Odd\n",
      "Even\n",
      "Odd\n",
      "Even\n",
      "Odd\n",
      "Even\n"
     ]
    }
   ],
   "source": [
    "for i in range(1,11):\n",
    "    print(is_even(i))"
   ]
  },
  {
   "cell_type": "code",
   "execution_count": 9,
   "id": "66fbad08",
   "metadata": {},
   "outputs": [
    {
     "data": {
      "text/plain": [
       "'Even'"
      ]
     },
     "execution_count": 9,
     "metadata": {},
     "output_type": "execute_result"
    }
   ],
   "source": [
    "is_even(12)"
   ]
  },
  {
   "cell_type": "code",
   "execution_count": 11,
   "id": "214a3dfb",
   "metadata": {},
   "outputs": [
    {
     "data": {
      "text/plain": [
       "'Odd'"
      ]
     },
     "execution_count": 11,
     "metadata": {},
     "output_type": "execute_result"
    }
   ],
   "source": [
    "is_even(567)"
   ]
  },
  {
   "cell_type": "code",
   "execution_count": 2,
   "id": "2a118bb7",
   "metadata": {},
   "outputs": [],
   "source": [
    "import random\n",
    "\n",
    "def rock_paper_scissors():\n",
    "    options = [\"rock\", \"paper\", \"scissors\"]\n",
    "    computer = random.choice(options)\n",
    "    player = input(\"Choose rock, paper, or scissors: \").lower()\n",
    "\n",
    "    if player not in options:\n",
    "        print(\"Invalid choice!\")\n",
    "        return\n",
    "\n",
    "    print(f\"Computer chose: {computer}\")\n",
    "\n",
    "    if player == computer:\n",
    "        print(\"It's a tie!\")\n",
    "    elif (player == \"rock\" and computer == \"scissors\") or \\\n",
    "         (player == \"paper\" and computer == \"rock\") or \\\n",
    "         (player == \"scissors\" and computer == \"paper\"):\n",
    "        print(\"You win!\")\n",
    "    else:\n",
    "        print(\"You lose!\")\n"
   ]
  },
  {
   "cell_type": "code",
   "execution_count": 4,
   "id": "189c0060",
   "metadata": {},
   "outputs": [
    {
     "name": "stdout",
     "output_type": "stream",
     "text": [
      "Computer chose: rock\n",
      "You win!\n"
     ]
    }
   ],
   "source": [
    "rock_paper_scissors()"
   ]
  },
  {
   "cell_type": "code",
   "execution_count": 3,
   "id": "4752e58c",
   "metadata": {},
   "outputs": [
    {
     "name": "stdout",
     "output_type": "stream",
     "text": [
      "Computer chose: rock\n",
      "You win!\n"
     ]
    }
   ],
   "source": [
    "rock_paper_scissors()"
   ]
  },
  {
   "cell_type": "code",
   "execution_count": 17,
   "id": "4143053f",
   "metadata": {},
   "outputs": [
    {
     "data": {
      "text/plain": [
       "function"
      ]
     },
     "execution_count": 17,
     "metadata": {},
     "output_type": "execute_result"
    }
   ],
   "source": [
    "type(rock_paper_scissors)"
   ]
  },
  {
   "cell_type": "code",
   "execution_count": null,
   "id": "cc713819",
   "metadata": {},
   "outputs": [
    {
     "ename": "NameError",
     "evalue": "name 'rock_paper_scissors' is not defined",
     "output_type": "error",
     "traceback": [
      "\u001b[31m---------------------------------------------------------------------------\u001b[39m",
      "\u001b[31mNameError\u001b[39m                                 Traceback (most recent call last)",
      "\u001b[36mCell\u001b[39m\u001b[36m \u001b[39m\u001b[32mIn[1]\u001b[39m\u001b[32m, line 1\u001b[39m\n\u001b[32m----> \u001b[39m\u001b[32m1\u001b[39m \u001b[43mrock_paper_scissors\u001b[49m()\n",
      "\u001b[31mNameError\u001b[39m: name 'rock_paper_scissors' is not defined"
     ]
    }
   ],
   "source": []
  },
  {
   "cell_type": "code",
   "execution_count": null,
   "id": "6d86c047",
   "metadata": {},
   "outputs": [],
   "source": []
  }
 ],
 "metadata": {
  "kernelspec": {
   "display_name": "Python 3",
   "language": "python",
   "name": "python3"
  },
  "language_info": {
   "codemirror_mode": {
    "name": "ipython",
    "version": 3
   },
   "file_extension": ".py",
   "mimetype": "text/x-python",
   "name": "python",
   "nbconvert_exporter": "python",
   "pygments_lexer": "ipython3",
   "version": "3.12.9"
  }
 },
 "nbformat": 4,
 "nbformat_minor": 5
}
