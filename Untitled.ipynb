{
 "cells": [
  {
   "cell_type": "code",
   "execution_count": 1,
   "id": "e923040a",
   "metadata": {},
   "outputs": [],
   "source": [
    "import numpy as np"
   ]
  },
  {
   "cell_type": "code",
   "execution_count": 2,
   "id": "a300db66",
   "metadata": {},
   "outputs": [],
   "source": [
    "import pandas as pd"
   ]
  },
  {
   "cell_type": "code",
   "execution_count": 8,
   "id": "9f6d8ea5",
   "metadata": {},
   "outputs": [
    {
     "name": "stdout",
     "output_type": "stream",
     "text": [
      "   Match_ID        Date       Venue            Team 1            Team 2  \\\n",
      "0      1001  2024-02-17      Lahore  Lahore Qalandars    Multan Sultans   \n",
      "1      1002  2024-02-18     Karachi     Karachi Kings    Peshawar Zalmi   \n",
      "2      1003  2024-02-19  Rawalpindi  Islamabad United     Karachi Kings   \n",
      "3      1004  2024-02-20      Multan    Peshawar Zalmi  Islamabad United   \n",
      "4      1005  2024-02-21      Lahore    Multan Sultans  Lahore Qalandars   \n",
      "\n",
      "             Winner       Toss Winner Toss Decision     Umpire 1     Umpire 2  \n",
      "0    Multan Sultans    Multan Sultans           Bat    Aleem Dar  Asif Yaqoob  \n",
      "1    Peshawar Zalmi     Karachi Kings         Field   Ahsan Raza    Aleem Dar  \n",
      "2  Islamabad United  Islamabad United           Bat  Rashid Riaz   Ahsan Raza  \n",
      "3    Peshawar Zalmi    Peshawar Zalmi           Bat    Aleem Dar  Rashid Riaz  \n",
      "4    Multan Sultans    Multan Sultans         Field  Asif Yaqoob   Ahsan Raza  \n"
     ]
    }
   ],
   "source": [
    "import pandas as pd\n",
    "data = {\n",
    "    \"Match_ID\": [1001, 1002, 1003, 1004, 1005],\n",
    "    \"Date\": [\"2024-02-17\", \"2024-02-18\", \"2024-02-19\", \"2024-02-20\", \"2024-02-21\"],\n",
    "    \"Venue\": [\"Lahore\", \"Karachi\", \"Rawalpindi\", \"Multan\", \"Lahore\"],\n",
    "    \"Team 1\": [\"Lahore Qalandars\", \"Karachi Kings\", \"Islamabad United\", \"Peshawar Zalmi\", \"Multan Sultans\"],\n",
    "    \"Team 2\": [\"Multan Sultans\", \"Peshawar Zalmi\", \"Karachi Kings\", \"Islamabad United\", \"Lahore Qalandars\"],\n",
    "    \"Winner\": [\"Multan Sultans\", \"Peshawar Zalmi\", \"Islamabad United\", \"Peshawar Zalmi\", \"Multan Sultans\"],\n",
    "    \"Toss Winner\": [\"Multan Sultans\", \"Karachi Kings\", \"Islamabad United\", \"Peshawar Zalmi\", \"Multan Sultans\"],\n",
    "    \"Toss Decision\": [\"Bat\", \"Field\", \"Bat\", \"Bat\", \"Field\"],\n",
    "    \"Umpire 1\": [\"Aleem Dar\", \"Ahsan Raza\", \"Rashid Riaz\", \"Aleem Dar\", \"Asif Yaqoob\"],\n",
    "    \"Umpire 2\": [\"Asif Yaqoob\", \"Aleem Dar\", \"Ahsan Raza\", \"Rashid Riaz\", \"Ahsan Raza\"]\n",
    "}\n",
    "data = pd.DataFrame(data)\n",
    "print(data)"
   ]
  },
  {
   "cell_type": "code",
   "execution_count": 9,
   "id": "e68f80b6",
   "metadata": {},
   "outputs": [
    {
     "data": {
      "text/plain": [
       "(5, 10)"
      ]
     },
     "execution_count": 9,
     "metadata": {},
     "output_type": "execute_result"
    }
   ],
   "source": [
    "data.shape"
   ]
  },
  {
   "cell_type": "code",
   "execution_count": 10,
   "id": "764a62f1",
   "metadata": {},
   "outputs": [
    {
     "data": {
      "text/html": [
       "<div>\n",
       "<style scoped>\n",
       "    .dataframe tbody tr th:only-of-type {\n",
       "        vertical-align: middle;\n",
       "    }\n",
       "\n",
       "    .dataframe tbody tr th {\n",
       "        vertical-align: top;\n",
       "    }\n",
       "\n",
       "    .dataframe thead th {\n",
       "        text-align: right;\n",
       "    }\n",
       "</style>\n",
       "<table border=\"1\" class=\"dataframe\">\n",
       "  <thead>\n",
       "    <tr style=\"text-align: right;\">\n",
       "      <th></th>\n",
       "      <th>Match_ID</th>\n",
       "      <th>Date</th>\n",
       "      <th>Venue</th>\n",
       "      <th>Team 1</th>\n",
       "      <th>Team 2</th>\n",
       "      <th>Winner</th>\n",
       "      <th>Toss Winner</th>\n",
       "      <th>Toss Decision</th>\n",
       "      <th>Umpire 1</th>\n",
       "      <th>Umpire 2</th>\n",
       "    </tr>\n",
       "  </thead>\n",
       "  <tbody>\n",
       "    <tr>\n",
       "      <th>4</th>\n",
       "      <td>1005</td>\n",
       "      <td>2024-02-21</td>\n",
       "      <td>Lahore</td>\n",
       "      <td>Multan Sultans</td>\n",
       "      <td>Lahore Qalandars</td>\n",
       "      <td>Multan Sultans</td>\n",
       "      <td>Multan Sultans</td>\n",
       "      <td>Field</td>\n",
       "      <td>Asif Yaqoob</td>\n",
       "      <td>Ahsan Raza</td>\n",
       "    </tr>\n",
       "  </tbody>\n",
       "</table>\n",
       "</div>"
      ],
      "text/plain": [
       "   Match_ID        Date   Venue          Team 1            Team 2  \\\n",
       "4      1005  2024-02-21  Lahore  Multan Sultans  Lahore Qalandars   \n",
       "\n",
       "           Winner     Toss Winner Toss Decision     Umpire 1    Umpire 2  \n",
       "4  Multan Sultans  Multan Sultans         Field  Asif Yaqoob  Ahsan Raza  "
      ]
     },
     "execution_count": 10,
     "metadata": {},
     "output_type": "execute_result"
    }
   ],
   "source": [
    "data.tail(1)"
   ]
  },
  {
   "cell_type": "code",
   "execution_count": 11,
   "id": "fa2c2412",
   "metadata": {},
   "outputs": [
    {
     "name": "stdout",
     "output_type": "stream",
     "text": [
      "<class 'pandas.core.frame.DataFrame'>\n",
      "RangeIndex: 5 entries, 0 to 4\n",
      "Data columns (total 10 columns):\n",
      " #   Column         Non-Null Count  Dtype \n",
      "---  ------         --------------  ----- \n",
      " 0   Match_ID       5 non-null      int64 \n",
      " 1   Date           5 non-null      object\n",
      " 2   Venue          5 non-null      object\n",
      " 3   Team 1         5 non-null      object\n",
      " 4   Team 2         5 non-null      object\n",
      " 5   Winner         5 non-null      object\n",
      " 6   Toss Winner    5 non-null      object\n",
      " 7   Toss Decision  5 non-null      object\n",
      " 8   Umpire 1       5 non-null      object\n",
      " 9   Umpire 2       5 non-null      object\n",
      "dtypes: int64(1), object(9)\n",
      "memory usage: 532.0+ bytes\n"
     ]
    }
   ],
   "source": [
    "data.info()"
   ]
  },
  {
   "cell_type": "code",
   "execution_count": 12,
   "id": "974adb0f",
   "metadata": {},
   "outputs": [
    {
     "data": {
      "text/plain": [
       "array([[1001, '2024-02-17', 'Lahore', 'Lahore Qalandars',\n",
       "        'Multan Sultans', 'Multan Sultans', 'Multan Sultans', 'Bat',\n",
       "        'Aleem Dar', 'Asif Yaqoob'],\n",
       "       [1002, '2024-02-18', 'Karachi', 'Karachi Kings', 'Peshawar Zalmi',\n",
       "        'Peshawar Zalmi', 'Karachi Kings', 'Field', 'Ahsan Raza',\n",
       "        'Aleem Dar'],\n",
       "       [1003, '2024-02-19', 'Rawalpindi', 'Islamabad United',\n",
       "        'Karachi Kings', 'Islamabad United', 'Islamabad United', 'Bat',\n",
       "        'Rashid Riaz', 'Ahsan Raza'],\n",
       "       [1004, '2024-02-20', 'Multan', 'Peshawar Zalmi',\n",
       "        'Islamabad United', 'Peshawar Zalmi', 'Peshawar Zalmi', 'Bat',\n",
       "        'Aleem Dar', 'Rashid Riaz'],\n",
       "       [1005, '2024-02-21', 'Lahore', 'Multan Sultans',\n",
       "        'Lahore Qalandars', 'Multan Sultans', 'Multan Sultans', 'Field',\n",
       "        'Asif Yaqoob', 'Ahsan Raza']], dtype=object)"
      ]
     },
     "execution_count": 12,
     "metadata": {},
     "output_type": "execute_result"
    }
   ],
   "source": [
    "data.values"
   ]
  },
  {
   "cell_type": "code",
   "execution_count": 13,
   "id": "c70734c2",
   "metadata": {},
   "outputs": [
    {
     "data": {
      "text/plain": [
       "Winner\n",
       "Multan Sultans      2\n",
       "Peshawar Zalmi      2\n",
       "Islamabad United    1\n",
       "Name: count, dtype: int64"
      ]
     },
     "execution_count": 13,
     "metadata": {},
     "output_type": "execute_result"
    }
   ],
   "source": [
    "data['Winner'].value_counts()"
   ]
  },
  {
   "cell_type": "code",
   "execution_count": 15,
   "id": "fcaf8fc5",
   "metadata": {},
   "outputs": [
    {
     "data": {
      "text/plain": [
       "0      Multan Sultans\n",
       "1      Peshawar Zalmi\n",
       "2    Islamabad United\n",
       "3      Peshawar Zalmi\n",
       "4      Multan Sultans\n",
       "Name: Winner, dtype: object"
      ]
     },
     "execution_count": 15,
     "metadata": {},
     "output_type": "execute_result"
    }
   ],
   "source": [
    "data['Winner']"
   ]
  },
  {
   "cell_type": "code",
   "execution_count": 16,
   "id": "abeba442",
   "metadata": {},
   "outputs": [
    {
     "data": {
      "text/html": [
       "<div>\n",
       "<style scoped>\n",
       "    .dataframe tbody tr th:only-of-type {\n",
       "        vertical-align: middle;\n",
       "    }\n",
       "\n",
       "    .dataframe tbody tr th {\n",
       "        vertical-align: top;\n",
       "    }\n",
       "\n",
       "    .dataframe thead th {\n",
       "        text-align: right;\n",
       "    }\n",
       "</style>\n",
       "<table border=\"1\" class=\"dataframe\">\n",
       "  <thead>\n",
       "    <tr style=\"text-align: right;\">\n",
       "      <th></th>\n",
       "      <th>Match_ID</th>\n",
       "      <th>Date</th>\n",
       "      <th>Venue</th>\n",
       "      <th>Team 1</th>\n",
       "      <th>Team 2</th>\n",
       "      <th>Winner</th>\n",
       "      <th>Toss Winner</th>\n",
       "      <th>Toss Decision</th>\n",
       "      <th>Umpire 1</th>\n",
       "      <th>Umpire 2</th>\n",
       "    </tr>\n",
       "  </thead>\n",
       "  <tbody>\n",
       "    <tr>\n",
       "      <th>1</th>\n",
       "      <td>1002</td>\n",
       "      <td>2024-02-18</td>\n",
       "      <td>Karachi</td>\n",
       "      <td>Karachi Kings</td>\n",
       "      <td>Peshawar Zalmi</td>\n",
       "      <td>Peshawar Zalmi</td>\n",
       "      <td>Karachi Kings</td>\n",
       "      <td>Field</td>\n",
       "      <td>Ahsan Raza</td>\n",
       "      <td>Aleem Dar</td>\n",
       "    </tr>\n",
       "    <tr>\n",
       "      <th>2</th>\n",
       "      <td>1003</td>\n",
       "      <td>2024-02-19</td>\n",
       "      <td>Rawalpindi</td>\n",
       "      <td>Islamabad United</td>\n",
       "      <td>Karachi Kings</td>\n",
       "      <td>Islamabad United</td>\n",
       "      <td>Islamabad United</td>\n",
       "      <td>Bat</td>\n",
       "      <td>Rashid Riaz</td>\n",
       "      <td>Ahsan Raza</td>\n",
       "    </tr>\n",
       "  </tbody>\n",
       "</table>\n",
       "</div>"
      ],
      "text/plain": [
       "   Match_ID        Date       Venue            Team 1          Team 2  \\\n",
       "1      1002  2024-02-18     Karachi     Karachi Kings  Peshawar Zalmi   \n",
       "2      1003  2024-02-19  Rawalpindi  Islamabad United   Karachi Kings   \n",
       "\n",
       "             Winner       Toss Winner Toss Decision     Umpire 1    Umpire 2  \n",
       "1    Peshawar Zalmi     Karachi Kings         Field   Ahsan Raza   Aleem Dar  \n",
       "2  Islamabad United  Islamabad United           Bat  Rashid Riaz  Ahsan Raza  "
      ]
     },
     "execution_count": 16,
     "metadata": {},
     "output_type": "execute_result"
    }
   ],
   "source": [
    "data.iloc[1:3]"
   ]
  },
  {
   "cell_type": "code",
   "execution_count": null,
   "id": "809022b7",
   "metadata": {},
   "outputs": [],
   "source": []
  }
 ],
 "metadata": {
  "kernelspec": {
   "display_name": "python12",
   "language": "python",
   "name": "python3"
  },
  "language_info": {
   "codemirror_mode": {
    "name": "ipython",
    "version": 3
   },
   "file_extension": ".py",
   "mimetype": "text/x-python",
   "name": "python",
   "nbconvert_exporter": "python",
   "pygments_lexer": "ipython3",
   "version": "3.12.0"
  }
 },
 "nbformat": 4,
 "nbformat_minor": 5
}
