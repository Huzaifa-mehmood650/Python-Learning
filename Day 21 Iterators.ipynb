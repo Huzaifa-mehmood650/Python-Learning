{
 "cells": [
  {
   "cell_type": "code",
   "execution_count": 1,
   "id": "d75f2047",
   "metadata": {},
   "outputs": [
    {
     "name": "stdout",
     "output_type": "stream",
     "text": [
      "1\n",
      "2\n",
      "3\n"
     ]
    }
   ],
   "source": [
    "nums = [1, 2, 3]\n",
    "it = iter(nums)\n",
    "print(next(it))\n",
    "print(next(it))\n",
    "print(next(it))"
   ]
  },
  {
   "cell_type": "code",
   "execution_count": 2,
   "id": "0da0d7d8",
   "metadata": {},
   "outputs": [
    {
     "name": "stdout",
     "output_type": "stream",
     "text": [
      "red\n",
      "green\n",
      "blue\n"
     ]
    }
   ],
   "source": [
    "colors = [\"red\", \"green\", \"blue\"]\n",
    "for color in colors:\n",
    "    print(color)"
   ]
  },
  {
   "cell_type": "code",
   "execution_count": 3,
   "id": "103d60e2",
   "metadata": {},
   "outputs": [
    {
     "name": "stdout",
     "output_type": "stream",
     "text": [
      "G\n",
      "o\n",
      "a\n",
      "t\n"
     ]
    }
   ],
   "source": [
    "s = \"Goat\"\n",
    "it = iter(s)\n",
    "for char in it:\n",
    "    print(char)"
   ]
  },
  {
   "cell_type": "code",
   "execution_count": 4,
   "id": "7a94328f",
   "metadata": {},
   "outputs": [
    {
     "name": "stdout",
     "output_type": "stream",
     "text": [
      "1\n",
      "2\n",
      "3\n",
      "4\n",
      "5\n"
     ]
    }
   ],
   "source": [
    "class Counter:\n",
    "    def __init__(self, max):\n",
    "        self.num = 1\n",
    "        self.max = max\n",
    "\n",
    "    def __iter__(self):\n",
    "        return self\n",
    "\n",
    "    def __next__(self):\n",
    "        if self.num <= self.max:\n",
    "            val = self.num\n",
    "            self.num += 1\n",
    "            return val\n",
    "        else:\n",
    "            raise StopIteration\n",
    "\n",
    "for i in Counter(5):\n",
    "    print(i)"
   ]
  },
  {
   "cell_type": "code",
   "execution_count": 5,
   "id": "7257d17f",
   "metadata": {},
   "outputs": [
    {
     "name": "stdout",
     "output_type": "stream",
     "text": [
      "name : Huzaifa\n",
      "age : 17\n"
     ]
    }
   ],
   "source": [
    "info = {'name': 'Huzaifa', 'age': 17}\n",
    "for key in info:\n",
    "    print(key, \":\", info[key])"
   ]
  },
  {
   "cell_type": "code",
   "execution_count": 6,
   "id": "69a381f7",
   "metadata": {},
   "outputs": [
    {
     "name": "stdout",
     "output_type": "stream",
     "text": [
      "1\n",
      "2\n",
      "3\n",
      "4\n",
      "5\n"
     ]
    }
   ],
   "source": [
    "from itertools import count\n",
    "for num in count(1):\n",
    "    print(num)\n",
    "    if num == 5:\n",
    "        break"
   ]
  },
  {
   "cell_type": "code",
   "execution_count": 7,
   "id": "be1b78f0",
   "metadata": {},
   "outputs": [
    {
     "name": "stdout",
     "output_type": "stream",
     "text": [
      "cherry\n",
      "banana\n",
      "apple\n"
     ]
    }
   ],
   "source": [
    "fruits = [\"apple\", \"banana\", \"cherry\"]\n",
    "for fruit in reversed(fruits):\n",
    "    print(fruit)\n"
   ]
  },
  {
   "cell_type": "code",
   "execution_count": 8,
   "id": "f653d530",
   "metadata": {},
   "outputs": [
    {
     "name": "stdout",
     "output_type": "stream",
     "text": [
      "0 Goat\n",
      "1 Squirrel\n",
      "2 Cat\n"
     ]
    }
   ],
   "source": [
    "animals = [\"Goat\", \"Squirrel\", \"Cat\"]\n",
    "for i, animal in enumerate(animals):\n",
    "    print(i, animal)"
   ]
  },
  {
   "cell_type": "code",
   "execution_count": 9,
   "id": "5b45a53e",
   "metadata": {},
   "outputs": [
    {
     "name": "stdout",
     "output_type": "stream",
     "text": [
      "Ali\n",
      "Zara\n"
     ]
    }
   ],
   "source": [
    "names = (\"Ali\", \"Zara\", \"Bilal\")\n",
    "it = iter(names)\n",
    "print(next(it))\n",
    "print(next(it))"
   ]
  },
  {
   "cell_type": "code",
   "execution_count": 10,
   "id": "32b36e68",
   "metadata": {},
   "outputs": [
    {
     "name": "stdout",
     "output_type": "stream",
     "text": [
      "2\n",
      "4\n",
      "6\n",
      "8\n",
      "10\n"
     ]
    }
   ],
   "source": [
    "class EvenNumbers:\n",
    "    def __init__(self, max):\n",
    "        self.max = max\n",
    "        self.current = 0\n",
    "\n",
    "    def __iter__(self):\n",
    "        return self\n",
    "\n",
    "    def __next__(self):\n",
    "        self.current += 2\n",
    "        if self.current <= self.max:\n",
    "            return self.current\n",
    "        else:\n",
    "            raise StopIteration\n",
    "\n",
    "for even in EvenNumbers(10):\n",
    "    print(even)"
   ]
  },
  {
   "cell_type": "code",
   "execution_count": 12,
   "id": "1ca41955",
   "metadata": {},
   "outputs": [
    {
     "name": "stdout",
     "output_type": "stream",
     "text": [
      "Guess the secret animal!\n",
      "You guessed it right!\n"
     ]
    }
   ],
   "source": [
    "class AnimalGame:\n",
    "    def __init__(self):\n",
    "        self.animals = [\"goat\", \"squirrel\", \"cat\",\n",
    "                         \"dog\", \"lion\", \"rabbit\"]\n",
    "        self.secret = random.choice(self.animals)\n",
    "        self.tries = 3\n",
    "        self.play()\n",
    "\n",
    "    def play(self):\n",
    "        print(\"Guess the secret animal!\")\n",
    "        while self.tries > 0:\n",
    "            guess = input(\"Your guess: \").lower()\n",
    "            if guess == self.secret:\n",
    "                print(\"You guessed it right!\")\n",
    "                return\n",
    "            self.tries -= 1\n",
    "            print(f\"Wrong! Tries left: {self.tries}\")\n",
    "        print(\"You lost. The animal was:\", self.secret)\n",
    "\n",
    "game = AnimalGame()"
   ]
  },
  {
   "cell_type": "code",
   "execution_count": null,
   "id": "5676a4f3",
   "metadata": {},
   "outputs": [],
   "source": []
  }
 ],
 "metadata": {
  "kernelspec": {
   "display_name": "Python 3",
   "language": "python",
   "name": "python3"
  },
  "language_info": {
   "codemirror_mode": {
    "name": "ipython",
    "version": 3
   },
   "file_extension": ".py",
   "mimetype": "text/x-python",
   "name": "python",
   "nbconvert_exporter": "python",
   "pygments_lexer": "ipython3",
   "version": "3.12.5"
  }
 },
 "nbformat": 4,
 "nbformat_minor": 5
}
