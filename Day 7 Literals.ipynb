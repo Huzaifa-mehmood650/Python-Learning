{
 "cells": [
  {
   "cell_type": "code",
   "execution_count": 2,
   "id": "651a6997",
   "metadata": {},
   "outputs": [
    {
     "name": "stdout",
     "output_type": "stream",
     "text": [
      "10 100 200 300\n",
      "10.5 150.0 0.0015\n",
      "3.14j 3.14 0.0\n"
     ]
    }
   ],
   "source": [
    "a = 0b1010\n",
    "b = 100\n",
    "c = 0o310\n",
    "d = 0x12c\n",
    "\n",
    "float_1 = 10.5\n",
    "float_2 = 1.5e2\n",
    "float_3 = 1.5e-3\n",
    "\n",
    "x = 3.14j\n",
    "\n",
    "print(a, b, c, d)\n",
    "print(float_1, float_2, float_3)\n",
    "print(x, x.imag, x.real )"
   ]
  },
  {
   "cell_type": "code",
   "execution_count": 3,
   "id": "def22a4e",
   "metadata": {},
   "outputs": [
    {
     "name": "stdout",
     "output_type": "stream",
     "text": [
      "y: 5\n",
      "z: 10\n"
     ]
    }
   ],
   "source": [
    "y = True + 4\n",
    "z = False + 10\n",
    "\n",
    "print(\"y:\", y)\n",
    "print(\"z:\", z)"
   ]
  },
  {
   "cell_type": "code",
   "execution_count": null,
   "id": "b7f8e005",
   "metadata": {},
   "outputs": [],
   "source": []
  }
 ],
 "metadata": {
  "kernelspec": {
   "display_name": "Python 3",
   "language": "python",
   "name": "python3"
  },
  "language_info": {
   "codemirror_mode": {
    "name": "ipython",
    "version": 3
   },
   "file_extension": ".py",
   "mimetype": "text/x-python",
   "name": "python",
   "nbconvert_exporter": "python",
   "pygments_lexer": "ipython3",
   "version": "3.12.9"
  }
 },
 "nbformat": 4,
 "nbformat_minor": 5
}
