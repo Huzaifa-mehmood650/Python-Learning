{
 "cells": [
  {
   "cell_type": "code",
   "execution_count": 13,
   "id": "75296f92",
   "metadata": {},
   "outputs": [],
   "source": [
    "def mul(a,b):\n",
    "\n",
    "    a = int(input(\"Enter your number\"))\n",
    "    b = int(input(\"Enter your number\"))\n",
    "    answer = a * b\n",
    "    print(answer)"
   ]
  },
  {
   "cell_type": "code",
   "execution_count": 17,
   "id": "ce33df34",
   "metadata": {},
   "outputs": [
    {
     "name": "stdout",
     "output_type": "stream",
     "text": [
      "54\n"
     ]
    }
   ],
   "source": [
    "mul(0,0)"
   ]
  },
  {
   "cell_type": "code",
   "execution_count": null,
   "id": "7aa68fea",
   "metadata": {},
   "outputs": [],
   "source": []
  }
 ],
 "metadata": {
  "kernelspec": {
   "display_name": "Python 3",
   "language": "python",
   "name": "python3"
  },
  "language_info": {
   "codemirror_mode": {
    "name": "ipython",
    "version": 3
   },
   "file_extension": ".py",
   "mimetype": "text/x-python",
   "name": "python",
   "nbconvert_exporter": "python",
   "pygments_lexer": "ipython3",
   "version": "3.12.9"
  }
 },
 "nbformat": 4,
 "nbformat_minor": 5
}
