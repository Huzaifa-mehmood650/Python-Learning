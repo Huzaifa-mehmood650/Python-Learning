{
 "cells": [
  {
   "cell_type": "code",
   "execution_count": 16,
   "id": "b49f3f2e",
   "metadata": {},
   "outputs": [
    {
     "name": "stdout",
     "output_type": "stream",
     "text": [
      " Huzaifa\n",
      " Mehmood\n"
     ]
    }
   ],
   "source": [
    "First_name = input(\"Enter your first name\")\n",
    "Last_name = input(\"Enter your last name\")\n",
    "\n",
    "print(First_name) \n",
    "print(Last_name)"
   ]
  },
  {
   "cell_type": "code",
   "execution_count": 17,
   "id": "f7ec461c",
   "metadata": {},
   "outputs": [
    {
     "name": "stdout",
     "output_type": "stream",
     "text": [
      " Huzaifa Mehmood\n"
     ]
    }
   ],
   "source": [
    "result = First_name + Last_name\n",
    "print(result)"
   ]
  },
  {
   "cell_type": "code",
   "execution_count": 24,
   "id": "96c26a82",
   "metadata": {},
   "outputs": [
    {
     "name": "stdout",
     "output_type": "stream",
     "text": [
      "You live in : Lahore\n"
     ]
    }
   ],
   "source": [
    "My_city = input(\"Enter you city\")\n",
    "print(f\"You live in : {My_city}\")"
   ]
  },
  {
   "cell_type": "code",
   "execution_count": null,
   "id": "a2db5f7e",
   "metadata": {},
   "outputs": [],
   "source": []
  }
 ],
 "metadata": {
  "kernelspec": {
   "display_name": "Python 3",
   "language": "python",
   "name": "python3"
  },
  "language_info": {
   "codemirror_mode": {
    "name": "ipython",
    "version": 3
   },
   "file_extension": ".py",
   "mimetype": "text/x-python",
   "name": "python",
   "nbconvert_exporter": "python",
   "pygments_lexer": "ipython3",
   "version": "3.12.9"
  }
 },
 "nbformat": 4,
 "nbformat_minor": 5
}
