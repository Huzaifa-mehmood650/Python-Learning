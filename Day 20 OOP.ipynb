{
 "cells": [
  {
   "cell_type": "code",
   "execution_count": 13,
   "id": "27581439",
   "metadata": {},
   "outputs": [],
   "source": [
    "class ATM:\n",
    "\n",
    "    def __init__(self):\n",
    "        self.pin = \"\"\n",
    "        self.balance = 0\n",
    "        self.menu()\n",
    "\n",
    "    def menu(self):\n",
    "        user_input = input(\n",
    "            \"Hello, How would you like to proceed?\\n\"\n",
    "            \"Enter 1 to create pin\\n\"\n",
    "            \"Enter 2 to deposit\\n\"\n",
    "            \"Enter 3 to withdraw\\n\"\n",
    "            \"Enter 4 to check balance\\n\"\n",
    "            \"Enter 5 to exit\\n\"\n",
    "        )\n",
    "        Balance = 12000\n",
    "\n",
    "        if user_input == '1':\n",
    "            print('Create Pin')\n",
    "        elif user_input == '2':\n",
    "            print('Deposit')\n",
    "        elif user_input == '3':\n",
    "            print('Withdraw')\n",
    "        elif user_input == \"4\": \n",
    "            print(Balance)\n",
    "        elif user_input == '5':\n",
    "            print('Bye')\n",
    "        else:\n",
    "            print(\"Invalid input. Try again.\")\n"
   ]
  },
  {
   "cell_type": "code",
   "execution_count": 14,
   "id": "3677fb9c",
   "metadata": {},
   "outputs": [
    {
     "name": "stdout",
     "output_type": "stream",
     "text": [
      "12000\n"
     ]
    }
   ],
   "source": [
    "atm = ATM()"
   ]
  },
  {
   "cell_type": "code",
   "execution_count": 1,
   "id": "6e18b98c",
   "metadata": {},
   "outputs": [],
   "source": [
    "class Student:\n",
    "\n",
    "    def __init__(self, name, grade, age):\n",
    "        self.name = name\n",
    "        self.grade = grade\n",
    "        self.age = age\n",
    "\n",
    "    def display_info(self):\n",
    "        print(f\"Name: {self.name}\")\n",
    "        print(f\"Grade: {self.grade}\")\n",
    "        print(f\"Age: {self.age}\")"
   ]
  },
  {
   "cell_type": "code",
   "execution_count": 2,
   "id": "062fdd71",
   "metadata": {},
   "outputs": [
    {
     "name": "stdout",
     "output_type": "stream",
     "text": [
      "Name: Huzaifa\n",
      "Grade: A Level\n",
      "Age: 17\n"
     ]
    }
   ],
   "source": [
    "student1 = Student(\"Huzaifa\", \"A Level\", 17)\n",
    "student1.display_info()"
   ]
  },
  {
   "cell_type": "code",
   "execution_count": 3,
   "id": "efe9fe5e",
   "metadata": {},
   "outputs": [
    {
     "name": "stdout",
     "output_type": "stream",
     "text": [
      "Goatee says hello! I am a Goat.\n",
      "Nutty says hello! I am a Squirrel.\n"
     ]
    }
   ],
   "source": [
    "class Animal:\n",
    "    def __init__(self, name, species):\n",
    "        self.name = name\n",
    "        self.species = species\n",
    "    def speak(self):\n",
    "        print(f\"{self.name} says hello! I am a {self.species}.\")\n",
    "dog = Animal(\"Goatee\", \"Goat\")\n",
    "squirrel = Animal(\"Nutty\", \"Squirrel\")\n",
    "dog.speak()       \n",
    "squirrel.speak() "
   ]
  },
  {
   "cell_type": "code",
   "execution_count": null,
   "id": "21190e74",
   "metadata": {},
   "outputs": [],
   "source": []
  }
 ],
 "metadata": {
  "kernelspec": {
   "display_name": "base",
   "language": "python",
   "name": "python3"
  },
  "language_info": {
   "codemirror_mode": {
    "name": "ipython",
    "version": 3
   },
   "file_extension": ".py",
   "mimetype": "text/x-python",
   "name": "python",
   "nbconvert_exporter": "python",
   "pygments_lexer": "ipython3",
   "version": "3.12.9"
  }
 },
 "nbformat": 4,
 "nbformat_minor": 5
}
