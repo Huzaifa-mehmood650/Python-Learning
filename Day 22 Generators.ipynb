{
 "cells": [
  {
   "cell_type": "code",
   "execution_count": 1,
   "id": "d08eadbc",
   "metadata": {},
   "outputs": [
    {
     "name": "stdout",
     "output_type": "stream",
     "text": [
      "1\n",
      "2\n",
      "3\n",
      "4\n",
      "5\n"
     ]
    }
   ],
   "source": [
    "def count_up_to(n):\n",
    "    for i in range(1, n+1):\n",
    "        yield i\n",
    "\n",
    "for num in count_up_to(5):\n",
    "    print(num)"
   ]
  },
  {
   "cell_type": "code",
   "execution_count": 2,
   "id": "0fad8df4",
   "metadata": {},
   "outputs": [
    {
     "name": "stdout",
     "output_type": "stream",
     "text": [
      "0\n",
      "1\n",
      "4\n",
      "9\n",
      "16\n"
     ]
    }
   ],
   "source": [
    "squares = (x*x for x in range(5))\n",
    "for val in squares:\n",
    "    print(val)"
   ]
  },
  {
   "cell_type": "code",
   "execution_count": 3,
   "id": "7d1c8be7",
   "metadata": {},
   "outputs": [
    {
     "name": "stdout",
     "output_type": "stream",
     "text": [
      "0\n",
      "2\n",
      "4\n",
      "6\n",
      "8\n",
      "10\n"
     ]
    }
   ],
   "source": [
    "def even_gen(n):\n",
    "    for i in range(0, n+1, 2):\n",
    "        yield i\n",
    "\n",
    "for e in even_gen(10):\n",
    "    print(e)"
   ]
  },
  {
   "cell_type": "code",
   "execution_count": 4,
   "id": "28f2e391",
   "metadata": {},
   "outputs": [
    {
     "name": "stdout",
     "output_type": "stream",
     "text": [
      "H\n",
      "u\n",
      "z\n",
      "a\n",
      "i\n",
      "f\n",
      "a\n"
     ]
    }
   ],
   "source": [
    "def char_gen(s):\n",
    "    for ch in s:\n",
    "        yield ch\n",
    "\n",
    "for c in char_gen(\"Huzaifa\"):\n",
    "    print(c)"
   ]
  },
  {
   "cell_type": "code",
   "execution_count": 5,
   "id": "b1a1d8c5",
   "metadata": {},
   "outputs": [
    {
     "name": "stdout",
     "output_type": "stream",
     "text": [
      "3\n",
      "2\n",
      "1\n"
     ]
    }
   ],
   "source": [
    "def countdown(n):\n",
    "    while n > 0:\n",
    "        yield n\n",
    "        n -= 1\n",
    "\n",
    "for i in countdown(3):\n",
    "    print(i)"
   ]
  },
  {
   "cell_type": "code",
   "execution_count": 6,
   "id": "0e346d03",
   "metadata": {},
   "outputs": [
    {
     "name": "stdout",
     "output_type": "stream",
     "text": [
      "0\n",
      "1\n",
      "1\n",
      "2\n",
      "3\n",
      "5\n",
      "8\n"
     ]
    }
   ],
   "source": [
    "def fibonacci(n):\n",
    "    a, b = 0, 1\n",
    "    for _ in range(n):\n",
    "        yield a\n",
    "        a, b = b, a + b\n",
    "\n",
    "for num in fibonacci(7):\n",
    "    print(num)\n"
   ]
  },
  {
   "cell_type": "code",
   "execution_count": 7,
   "id": "7f9da4d9",
   "metadata": {},
   "outputs": [
    {
     "name": "stdout",
     "output_type": "stream",
     "text": [
      "o\n",
      "a\n",
      "e\n",
      "e\n",
      "a\n",
      "u\n"
     ]
    }
   ],
   "source": [
    "def vowel_gen(text):\n",
    "    for char in text:\n",
    "        if char in 'aeiouAEIOU':\n",
    "            yield char\n",
    "\n",
    "for v in vowel_gen(\"Goatee and Nutty\"):\n",
    "    print(v)"
   ]
  },
  {
   "cell_type": "code",
   "execution_count": 8,
   "id": "6e34969b",
   "metadata": {},
   "outputs": [
    {
     "name": "stdout",
     "output_type": "stream",
     "text": [
      "1.0\n",
      "1.41\n",
      "1.73\n",
      "2.0\n",
      "2.24\n"
     ]
    }
   ],
   "source": [
    "import math\n",
    "def sqrt_gen(n):\n",
    "    for i in range(1, n+1):\n",
    "        yield round(math.sqrt(i), 2)\n",
    "\n",
    "for s in sqrt_gen(5):\n",
    "    print(s)"
   ]
  },
  {
   "cell_type": "code",
   "execution_count": 9,
   "id": "575fd056",
   "metadata": {},
   "outputs": [
    {
     "name": "stdout",
     "output_type": "stream",
     "text": [
      "1\n",
      "3\n",
      "5\n"
     ]
    }
   ],
   "source": [
    "def filter_odds(lst):\n",
    "    for x in lst:\n",
    "        if x % 2 != 0:\n",
    "            yield x\n",
    "\n",
    "for num in filter_odds([1, 2, 3, 4, 5, 6]):\n",
    "    print(num)\n"
   ]
  },
  {
   "cell_type": "code",
   "execution_count": 10,
   "id": "3435eac1",
   "metadata": {},
   "outputs": [
    {
     "name": "stdout",
     "output_type": "stream",
     "text": [
      "1\n",
      "2\n",
      "3\n",
      "4\n",
      "5\n"
     ]
    }
   ],
   "source": [
    "def infinite_gen():\n",
    "    n = 1\n",
    "    while True:\n",
    "        yield n\n",
    "        n += 1\n",
    "\n",
    "gen = infinite_gen()\n",
    "for _ in range(5):\n",
    "    print(next(gen))\n"
   ]
  },
  {
   "cell_type": "code",
   "execution_count": null,
   "id": "0d82c9a8",
   "metadata": {},
   "outputs": [],
   "source": []
  }
 ],
 "metadata": {
  "kernelspec": {
   "display_name": "Python 3",
   "language": "python",
   "name": "python3"
  },
  "language_info": {
   "codemirror_mode": {
    "name": "ipython",
    "version": 3
   },
   "file_extension": ".py",
   "mimetype": "text/x-python",
   "name": "python",
   "nbconvert_exporter": "python",
   "pygments_lexer": "ipython3",
   "version": "3.12.5"
  }
 },
 "nbformat": 4,
 "nbformat_minor": 5
}
