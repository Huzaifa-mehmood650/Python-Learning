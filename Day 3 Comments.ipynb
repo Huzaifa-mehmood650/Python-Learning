{
 "cells": [
  {
   "cell_type": "markdown",
   "id": "19b50318",
   "metadata": {},
   "source": [
    "Comments"
   ]
  },
  {
   "cell_type": "code",
   "execution_count": 1,
   "id": "33326455",
   "metadata": {},
   "outputs": [],
   "source": [
    "# Hi I am writing A comment"
   ]
  },
  {
   "cell_type": "code",
   "execution_count": 2,
   "id": "e2dc4b6d",
   "metadata": {},
   "outputs": [],
   "source": [
    "# Comments are for understanding the code and \n",
    "# to improve code readability"
   ]
  },
  {
   "cell_type": "code",
   "execution_count": null,
   "id": "87e39b4e",
   "metadata": {},
   "outputs": [],
   "source": []
  }
 ],
 "metadata": {
  "kernelspec": {
   "display_name": "Python 3",
   "language": "python",
   "name": "python3"
  },
  "language_info": {
   "codemirror_mode": {
    "name": "ipython",
    "version": 3
   },
   "file_extension": ".py",
   "mimetype": "text/x-python",
   "name": "python",
   "nbconvert_exporter": "python",
   "pygments_lexer": "ipython3",
   "version": "3.12.9"
  }
 },
 "nbformat": 4,
 "nbformat_minor": 5
}
