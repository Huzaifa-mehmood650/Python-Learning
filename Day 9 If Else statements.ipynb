{
 "cells": [
  {
   "cell_type": "code",
   "execution_count": 3,
   "id": "a6807ead",
   "metadata": {},
   "outputs": [
    {
     "name": "stdout",
     "output_type": "stream",
     "text": [
      "Welcome\n"
     ]
    }
   ],
   "source": [
    "email = input(\"Enter your email\")\n",
    "password = input(\"Enter your password\")\n",
    "if email == 'hm@gmail.com' and password == '12345':\n",
    "    print(\"Welcome\")\n",
    "else:\n",
    "    print(\"Incorrect email or password\")    "
   ]
  },
  {
   "cell_type": "code",
   "execution_count": null,
   "id": "c4d3c646",
   "metadata": {},
   "outputs": [],
   "source": []
  }
 ],
 "metadata": {
  "kernelspec": {
   "display_name": "Python 3",
   "language": "python",
   "name": "python3"
  },
  "language_info": {
   "codemirror_mode": {
    "name": "ipython",
    "version": 3
   },
   "file_extension": ".py",
   "mimetype": "text/x-python",
   "name": "python",
   "nbconvert_exporter": "python",
   "pygments_lexer": "ipython3",
   "version": "3.12.9"
  }
 },
 "nbformat": 4,
 "nbformat_minor": 5
}
