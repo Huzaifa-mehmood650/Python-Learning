{
 "cells": [
  {
   "cell_type": "code",
   "execution_count": 4,
   "id": "0039b89a",
   "metadata": {},
   "outputs": [],
   "source": [
    "square = lambda x: x ** 2"
   ]
  },
  {
   "cell_type": "code",
   "execution_count": 5,
   "id": "8cf66ecf",
   "metadata": {},
   "outputs": [
    {
     "name": "stdout",
     "output_type": "stream",
     "text": [
      "16\n"
     ]
    }
   ],
   "source": [
    "print(square(4))"
   ]
  },
  {
   "cell_type": "code",
   "execution_count": 6,
   "id": "c298a6d5",
   "metadata": {},
   "outputs": [
    {
     "name": "stdout",
     "output_type": "stream",
     "text": [
      "True\n"
     ]
    }
   ],
   "source": [
    "is_even = lambda x: x % 2 == 0\n",
    "print(is_even(4))"
   ]
  },
  {
   "cell_type": "code",
   "execution_count": 7,
   "id": "3aaefba6",
   "metadata": {},
   "outputs": [
    {
     "name": "stdout",
     "output_type": "stream",
     "text": [
      "5\n"
     ]
    }
   ],
   "source": [
    "add = lambda a, b: a + b\n",
    "print(add(2, 3)) "
   ]
  },
  {
   "cell_type": "code",
   "execution_count": 8,
   "id": "cf700d12",
   "metadata": {},
   "outputs": [
    {
     "name": "stdout",
     "output_type": "stream",
     "text": [
      "5\n"
     ]
    }
   ],
   "source": [
    "string_length = lambda s: len(s)\n",
    "print(string_length(\"hello\"))"
   ]
  },
  {
   "cell_type": "code",
   "execution_count": 9,
   "id": "0d3a0978",
   "metadata": {},
   "outputs": [
    {
     "name": "stdout",
     "output_type": "stream",
     "text": [
      "False\n"
     ]
    }
   ],
   "source": [
    "is_positive = lambda x: x > 0\n",
    "print(is_positive(-3)) "
   ]
  },
  {
   "cell_type": "code",
   "execution_count": 10,
   "id": "12506f20",
   "metadata": {},
   "outputs": [
    {
     "name": "stdout",
     "output_type": "stream",
     "text": [
      "[3, 2, 1]\n"
     ]
    }
   ],
   "source": [
    "reverse_list = lambda lst: lst[::-1]\n",
    "print(reverse_list([1, 2, 3]))"
   ]
  },
  {
   "cell_type": "code",
   "execution_count": 11,
   "id": "4296a7b8",
   "metadata": {},
   "outputs": [
    {
     "name": "stdout",
     "output_type": "stream",
     "text": [
      "Even: True\n",
      "Square: 16\n",
      "Cube: 64\n",
      "Positive: True\n",
      "Double: 8\n"
     ]
    }
   ],
   "source": [
    "num = int(input(\"Enter a number: \"))\n",
    "\n",
    "is_even = lambda x: x % 2 == 0\n",
    "square = lambda x: x ** 2\n",
    "cube = lambda x: x ** 3\n",
    "is_positive = lambda x: x > 0\n",
    "double = lambda x: x * 2\n",
    "\n",
    "print(\"Even:\", is_even(num))\n",
    "print(\"Square:\", square(num))\n",
    "print(\"Cube:\", cube(num))\n",
    "print(\"Positive:\", is_positive(num))\n",
    "print(\"Double:\", double(num))\n"
   ]
  },
  {
   "cell_type": "code",
   "execution_count": null,
   "id": "3ccb851a",
   "metadata": {},
   "outputs": [],
   "source": []
  }
 ],
 "metadata": {
  "kernelspec": {
   "display_name": "Python 3",
   "language": "python",
   "name": "python3"
  },
  "language_info": {
   "codemirror_mode": {
    "name": "ipython",
    "version": 3
   },
   "file_extension": ".py",
   "mimetype": "text/x-python",
   "name": "python",
   "nbconvert_exporter": "python",
   "pygments_lexer": "ipython3",
   "version": "3.12.9"
  }
 },
 "nbformat": 4,
 "nbformat_minor": 5
}
